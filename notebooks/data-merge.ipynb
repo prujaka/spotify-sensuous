{
 "cells": [
  {
   "cell_type": "code",
   "execution_count": 81,
   "id": "edb3b5cf",
   "metadata": {},
   "outputs": [
    {
     "name": "stdout",
     "output_type": "stream",
     "text": [
      "The autoreload extension is already loaded. To reload it, use:\n",
      "  %reload_ext autoreload\n"
     ]
    }
   ],
   "source": [
    "%load_ext autoreload\n",
    "%autoreload 2\n",
    "\n",
    "import pandas as pd\n",
    "import numpy as np\n",
    "import scipy as sp\n",
    "import sensuous.preprocessing.csv as prep\n",
    "from sensuous.model.knn import strip_artists\n",
    "from sklearn.preprocessing import MinMaxScaler"
   ]
  },
  {
   "cell_type": "code",
   "execution_count": 34,
   "id": "fe043e95",
   "metadata": {},
   "outputs": [
    {
     "name": "stdout",
     "output_type": "stream",
     "text": [
      "Csv data preprocessing done, saved the cleaned data to file \"../data/all-songs.csv\"\n"
     ]
    }
   ],
   "source": [
    "prep.preprocess_csv_data()"
   ]
  },
  {
   "cell_type": "code",
   "execution_count": 35,
   "id": "52da7630",
   "metadata": {},
   "outputs": [],
   "source": [
    "df = pd.read_csv('../data/all-songs.csv')"
   ]
  },
  {
   "cell_type": "code",
   "execution_count": 38,
   "id": "f548e6c7",
   "metadata": {},
   "outputs": [],
   "source": [
    "df = df.drop(columns='Unnamed: 0')"
   ]
  },
  {
   "cell_type": "code",
   "execution_count": 78,
   "id": "8e44ae04",
   "metadata": {},
   "outputs": [],
   "source": [
    "n_neighbors = 10"
   ]
  },
  {
   "cell_type": "code",
   "execution_count": 82,
   "id": "346badcb",
   "metadata": {},
   "outputs": [],
   "source": [
    "df_numeric = df.drop(columns=['artists', 'song_title'])\n",
    "columns = df_numeric.columns.values.tolist()\n",
    "df_scaler = MinMaxScaler()\n",
    "df[columns] = df_scaler.fit_transform(df[columns])\n",
    "\n",
    "# Seed song selection\n",
    "song_title = 'Do It'\n",
    "artist = 'Mike Stud'\n",
    "\n",
    "criterion = (df['artists'].map(lambda x: artist in x)) & (\n",
    "    df['song_title'] == song_title)\n",
    "seed_song = df[criterion]\n",
    "\n",
    "if seed_song.shape[0] == 0:\n",
    "    print(\"No such a song in the dataset. Returning the user's entry.\")\n",
    "#     return f'{song} by {artist}'\n",
    "\n",
    "# Feature \"preprocessing\"\n",
    "seed_song_features = seed_song.select_dtypes(exclude='object')\n",
    "X = df.select_dtypes(exclude='object')\n",
    "\n",
    "# List of closest neighbors to the seed song\n",
    "tree = sp.spatial.KDTree(X.to_numpy())\n",
    "distances, indeces = tree.query([seed_song_features], k=n_neighbors)\n",
    "indeces = indeces.flatten()\n",
    "neighbors_df = df.loc[list(indeces)]\n",
    "songs = neighbors_df['song_title'].tolist()\n",
    "artists = [\n",
    "    strip_artists(artist) for artist in neighbors_df['artists'].tolist()\n",
    "]\n",
    "playlist = {'playlist': list(zip(songs, artists))}"
   ]
  },
  {
   "cell_type": "code",
   "execution_count": 83,
   "id": "58ce0b7c",
   "metadata": {},
   "outputs": [
    {
     "data": {
      "text/plain": [
       "{'playlist': [('Do It', 'Mike Stud'),\n",
       "  ('Chasing Tail', 'Win and Woo'),\n",
       "  ('In the Club', 'Big Chris'),\n",
       "  ('On A Mission', 'Summerella'),\n",
       "  ('Punta Cana', 'Creatives Of'),\n",
       "  ('No More', 'J9ueve'),\n",
       "  ('Bumblebee', 'Smokepurpp'),\n",
       "  ('Pataas Pilla', 'Sricharan Pakala, Anirudh Ravichander'),\n",
       "  ('Lies About You (feat. Lil Durk)', 'Gunna'),\n",
       "  ('Homework (feat. THEMXXNLIGHT)', 'Wiz Khalifa')]}"
      ]
     },
     "execution_count": 83,
     "metadata": {},
     "output_type": "execute_result"
    }
   ],
   "source": [
    "playlist"
   ]
  },
  {
   "cell_type": "code",
   "execution_count": null,
   "id": "e5b32277",
   "metadata": {},
   "outputs": [],
   "source": []
  }
 ],
 "metadata": {
  "kernelspec": {
   "display_name": "Python 3 (ipykernel)",
   "language": "python",
   "name": "python3"
  },
  "language_info": {
   "codemirror_mode": {
    "name": "ipython",
    "version": 3
   },
   "file_extension": ".py",
   "mimetype": "text/x-python",
   "name": "python",
   "nbconvert_exporter": "python",
   "pygments_lexer": "ipython3",
   "version": "3.10.6"
  },
  "toc": {
   "base_numbering": 1,
   "nav_menu": {},
   "number_sections": true,
   "sideBar": true,
   "skip_h1_title": false,
   "title_cell": "Table of Contents",
   "title_sidebar": "Contents",
   "toc_cell": false,
   "toc_position": {},
   "toc_section_display": true,
   "toc_window_display": false
  },
  "varInspector": {
   "cols": {
    "lenName": 16,
    "lenType": 16,
    "lenVar": 40
   },
   "kernels_config": {
    "python": {
     "delete_cmd_postfix": "",
     "delete_cmd_prefix": "del ",
     "library": "var_list.py",
     "varRefreshCmd": "print(var_dic_list())"
    },
    "r": {
     "delete_cmd_postfix": ") ",
     "delete_cmd_prefix": "rm(",
     "library": "var_list.r",
     "varRefreshCmd": "cat(var_dic_list()) "
    }
   },
   "types_to_exclude": [
    "module",
    "function",
    "builtin_function_or_method",
    "instance",
    "_Feature"
   ],
   "window_display": false
  }
 },
 "nbformat": 4,
 "nbformat_minor": 5
}
