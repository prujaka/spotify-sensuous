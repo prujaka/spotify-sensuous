{
 "cells": [
  {
   "cell_type": "code",
   "execution_count": 19,
   "id": "edb3b5cf",
   "metadata": {},
   "outputs": [
    {
     "name": "stdout",
     "output_type": "stream",
     "text": [
      "The autoreload extension is already loaded. To reload it, use:\n",
      "  %reload_ext autoreload\n"
     ]
    }
   ],
   "source": [
    "import os\n",
    "%load_ext autoreload\n",
    "%autoreload 2\n",
    "\n",
    "import pandas as pd\n",
    "import numpy as np\n",
    "import scipy as sp\n",
    "import sensuous.preprocessing.csv as prep\n",
    "from sensuous.model.knn import strip_artists, predict_playlist_csv\n",
    "from sklearn.preprocessing import MinMaxScaler"
   ]
  },
  {
   "cell_type": "code",
   "execution_count": 20,
   "id": "fe043e95",
   "metadata": {},
   "outputs": [
    {
     "name": "stdout",
     "output_type": "stream",
     "text": [
      "Csv data preprocessing done, saved the cleaned data to file \"../data/all-songs.csv\"\n"
     ]
    }
   ],
   "source": [
    "prep.preprocess_csv_data()"
   ]
  },
  {
   "cell_type": "code",
   "execution_count": 21,
   "id": "52da7630",
   "metadata": {},
   "outputs": [],
   "source": [
    "df = pd.read_csv('../data/all-songs.csv')"
   ]
  },
  {
   "cell_type": "code",
   "execution_count": 22,
   "id": "7bba1084",
   "metadata": {},
   "outputs": [],
   "source": [
    "df = df.drop(columns='Unnamed: 0')"
   ]
  },
  {
   "cell_type": "code",
   "execution_count": 23,
   "id": "4adae0eb",
   "metadata": {},
   "outputs": [
    {
     "data": {
      "text/plain": [
       "artists         ['VELVETEARS']\n",
       "song_title                None\n",
       "danceability             0.694\n",
       "energy                   0.407\n",
       "key                          5\n",
       "liveness                0.0785\n",
       "loudness               -14.235\n",
       "speechiness             0.0332\n",
       "tempo                   90.023\n",
       "valence                  0.151\n",
       "Name: 150500, dtype: object"
      ]
     },
     "execution_count": 23,
     "metadata": {},
     "output_type": "execute_result"
    }
   ],
   "source": [
    "df.iloc[150500]"
   ]
  },
  {
   "cell_type": "code",
   "execution_count": 11,
   "id": "90964b6b",
   "metadata": {},
   "outputs": [],
   "source": [
    "song_title = 'I Miss You'\n",
    "artist = 'Teddy Pendergrass'"
   ]
  },
  {
   "cell_type": "code",
   "execution_count": 15,
   "id": "d563a800",
   "metadata": {},
   "outputs": [
    {
     "name": "stdout",
     "output_type": "stream",
     "text": [
      "There is more than one entry. Returning the user's entry.\n"
     ]
    },
    {
     "data": {
      "text/plain": [
       "Unnamed: 0                         0.000004\n",
       "artists                      ['Elton John']\n",
       "song_title      Sixty Years On - Piano Demo\n",
       "danceability                       0.457831\n",
       "energy                                0.368\n",
       "key                                0.545455\n",
       "liveness                              0.156\n",
       "loudness                           0.764086\n",
       "speechiness                        0.028986\n",
       "tempo                              0.575171\n",
       "valence                               0.259\n",
       "Name: 1, dtype: object"
      ]
     },
     "execution_count": 15,
     "metadata": {},
     "output_type": "execute_result"
    }
   ],
   "source": [
    "predict_playlist_csv(artist, song_title, data_dir='../data')"
   ]
  },
  {
   "cell_type": "code",
   "execution_count": 12,
   "id": "a32be350",
   "metadata": {},
   "outputs": [
    {
     "data": {
      "text/plain": [
       "[False]"
      ]
     },
     "execution_count": 12,
     "metadata": {},
     "output_type": "execute_result"
    }
   ],
   "source": [
    "[(artist in df['artists']) | (('feat. ' + artist) in df['song_title'])]"
   ]
  },
  {
   "cell_type": "code",
   "execution_count": 15,
   "id": "12760c9a",
   "metadata": {},
   "outputs": [
    {
     "data": {
      "text/plain": [
       "(226022, 10)"
      ]
     },
     "execution_count": 15,
     "metadata": {},
     "output_type": "execute_result"
    }
   ],
   "source": [
    "df.dropna().shape"
   ]
  },
  {
   "cell_type": "code",
   "execution_count": 18,
   "id": "df4f6f4d",
   "metadata": {},
   "outputs": [
    {
     "data": {
      "text/plain": [
       "str"
      ]
     },
     "execution_count": 18,
     "metadata": {},
     "output_type": "execute_result"
    }
   ],
   "source": [
    "type(df.iloc[150500].song_title)"
   ]
  },
  {
   "cell_type": "code",
   "execution_count": null,
   "id": "bd41c806",
   "metadata": {},
   "outputs": [],
   "source": []
  }
 ],
 "metadata": {
  "kernelspec": {
   "display_name": "Python 3 (ipykernel)",
   "language": "python",
   "name": "python3"
  },
  "language_info": {
   "codemirror_mode": {
    "name": "ipython",
    "version": 3
   },
   "file_extension": ".py",
   "mimetype": "text/x-python",
   "name": "python",
   "nbconvert_exporter": "python",
   "pygments_lexer": "ipython3",
   "version": "3.10.6"
  },
  "toc": {
   "base_numbering": 1,
   "nav_menu": {},
   "number_sections": true,
   "sideBar": true,
   "skip_h1_title": false,
   "title_cell": "Table of Contents",
   "title_sidebar": "Contents",
   "toc_cell": false,
   "toc_position": {},
   "toc_section_display": true,
   "toc_window_display": false
  },
  "varInspector": {
   "cols": {
    "lenName": 16,
    "lenType": 16,
    "lenVar": 40
   },
   "kernels_config": {
    "python": {
     "delete_cmd_postfix": "",
     "delete_cmd_prefix": "del ",
     "library": "var_list.py",
     "varRefreshCmd": "print(var_dic_list())"
    },
    "r": {
     "delete_cmd_postfix": ") ",
     "delete_cmd_prefix": "rm(",
     "library": "var_list.r",
     "varRefreshCmd": "cat(var_dic_list()) "
    }
   },
   "types_to_exclude": [
    "module",
    "function",
    "builtin_function_or_method",
    "instance",
    "_Feature"
   ],
   "window_display": false
  }
 },
 "nbformat": 4,
 "nbformat_minor": 5
}
