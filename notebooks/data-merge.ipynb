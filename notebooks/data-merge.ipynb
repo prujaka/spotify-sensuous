{
 "cells": [
  {
   "cell_type": "code",
   "execution_count": 30,
   "id": "edb3b5cf",
   "metadata": {},
   "outputs": [
    {
     "name": "stdout",
     "output_type": "stream",
     "text": [
      "The autoreload extension is already loaded. To reload it, use:\n",
      "  %reload_ext autoreload\n"
     ]
    }
   ],
   "source": [
    "import os\n",
    "%load_ext autoreload\n",
    "%autoreload 2\n",
    "\n",
    "import pandas as pd\n",
    "import numpy as np\n",
    "import scipy as sp\n",
    "import sensuous.preprocessing.csv as prep\n",
    "from sensuous.model.knn import strip_artists, predict_playlist_csv\n",
    "from sklearn.preprocessing import MinMaxScaler"
   ]
  },
  {
   "cell_type": "code",
   "execution_count": 34,
   "id": "fe043e95",
   "metadata": {},
   "outputs": [
    {
     "name": "stdout",
     "output_type": "stream",
     "text": [
      "Csv data preprocessing done, saved the cleaned data to file \"../data/all-songs.csv\"\n"
     ]
    }
   ],
   "source": [
    "prep.preprocess_csv_data()"
   ]
  },
  {
   "cell_type": "code",
   "execution_count": 4,
   "id": "52da7630",
   "metadata": {},
   "outputs": [],
   "source": [
    "df = pd.read_csv('../data/all-songs.csv')"
   ]
  },
  {
   "cell_type": "code",
   "execution_count": 5,
   "id": "f548e6c7",
   "metadata": {},
   "outputs": [],
   "source": [
    "df = df.drop(columns='Unnamed: 0')"
   ]
  },
  {
   "cell_type": "code",
   "execution_count": 14,
   "id": "8e44ae04",
   "metadata": {},
   "outputs": [],
   "source": [
    "n_neighbors = 10"
   ]
  },
  {
   "cell_type": "code",
   "execution_count": 28,
   "id": "346badcb",
   "metadata": {},
   "outputs": [],
   "source": [
    "df_numeric = df.drop(columns=['artists', 'song_title'])\n",
    "columns = df_numeric.columns.values.tolist()\n",
    "df_scaler = MinMaxScaler()\n",
    "df[columns] = df_scaler.fit_transform(df[columns])\n",
    "\n",
    "# Seed song selection\n",
    "song_title = 'I Miss You'\n",
    "artist = 'Teddy Pendergrass'\n",
    "\n",
    "criterion = ((df['artists'].map(lambda x: artist in x) \n",
    "              | df['song_title'].map(lambda x: 'feat. ' + artist in x))\n",
    "             & (df['song_title'].map(lambda x: song_title in x)))\n",
    "seed_song = df[criterion]\n",
    "\n",
    "if seed_song.shape[0] == 0:\n",
    "    print(\"No such a song in the dataset. Returning the user's entry.\")\n",
    "#     return f'{song_title} by {artist}'\n",
    "elif seed_song.shape[0] > 1:\n",
    "    print(\"There is more than one entry. Returning the search results.\")\n",
    "#     return seed_song\n",
    "\n",
    "# Feature \"preprocessing\"\n",
    "seed_song_features = seed_song.select_dtypes(exclude='object')\n",
    "X = df.select_dtypes(exclude='object')\n",
    "\n",
    "# List of closest neighbors to the seed song\n",
    "tree = sp.spatial.KDTree(X.to_numpy())\n",
    "distances, indeces = tree.query([seed_song_features], k=n_neighbors)\n",
    "indeces = indeces.flatten()\n",
    "neighbors_df = df.loc[list(indeces)]\n",
    "songs = neighbors_df['song_title'].tolist()\n",
    "artists = [\n",
    "    strip_artists(artist) for artist in neighbors_df['artists'].tolist()\n",
    "]\n",
    "playlist = {'playlist': list(zip(songs, artists))}"
   ]
  },
  {
   "cell_type": "code",
   "execution_count": 31,
   "id": "90964b6b",
   "metadata": {},
   "outputs": [],
   "source": [
    "song_title = 'I Miss You'\n",
    "artist = 'Teddy Pendergrass'"
   ]
  },
  {
   "cell_type": "code",
   "execution_count": 36,
   "id": "d563a800",
   "metadata": {},
   "outputs": [
    {
     "data": {
      "text/plain": [
       "{'playlist': [('I Miss You (feat. Teddy Pendergrass)',\n",
       "   'Harold Melvin & The Blue Notes, Teddy Pendergrass'),\n",
       "  ('Tumse Milkar Na Jane', 'Lata Mangeshkar, Shabbir Kumar'),\n",
       "  ('The Puppet', 'Echo & the Bunnymen'),\n",
       "  ('Majhe Mahar Pandhari - Abhang 1977', 'Bhimsen Joshi'),\n",
       "  ('I Am The Walrus - Remastered 2009', 'The Beatles'),\n",
       "  ('Mystic Traveler', 'Dave Mason'),\n",
       "  ('Rat Bat Blue', 'Deep Purple'),\n",
       "  ('Hola les lolos', 'Bernard Adamus'),\n",
       "  ('Gori Tera Gaon Bada Pyara', 'K. J. Yesudas'),\n",
       "  ('I Choose You', 'Willie Hutch')]}"
      ]
     },
     "execution_count": 36,
     "metadata": {},
     "output_type": "execute_result"
    }
   ],
   "source": [
    "predict_playlist_csv(song_title, artist, data_dir='../data')"
   ]
  },
  {
   "cell_type": "code",
   "execution_count": 1,
   "id": "2eae285b",
   "metadata": {},
   "outputs": [
    {
     "ename": "NameError",
     "evalue": "name 'os' is not defined",
     "output_type": "error",
     "traceback": [
      "\u001B[0;31m---------------------------------------------------------------------------\u001B[0m",
      "\u001B[0;31mNameError\u001B[0m                                 Traceback (most recent call last)",
      "Cell \u001B[0;32mIn[1], line 1\u001B[0m\n\u001B[0;32m----> 1\u001B[0m \u001B[43mos\u001B[49m\u001B[38;5;241m.\u001B[39mgetcwd()\n",
      "\u001B[0;31mNameError\u001B[0m: name 'os' is not defined"
     ]
    }
   ],
   "source": [
    "os.getcwd()\n"
   ]
  },
  {
   "cell_type": "code",
   "execution_count": 2,
   "outputs": [],
   "source": [
    "import os\n"
   ],
   "metadata": {
    "collapsed": false
   }
  },
  {
   "cell_type": "code",
   "execution_count": 3,
   "outputs": [
    {
     "data": {
      "text/plain": "'/Users/sergey/code/prujaka/spotify-sensuous-backend/notebooks'"
     },
     "execution_count": 3,
     "metadata": {},
     "output_type": "execute_result"
    }
   ],
   "source": [
    "os.getcwd()\n"
   ],
   "metadata": {
    "collapsed": false
   }
  },
  {
   "cell_type": "code",
   "execution_count": null,
   "outputs": [],
   "source": [],
   "metadata": {
    "collapsed": false
   }
  }
 ],
 "metadata": {
  "kernelspec": {
   "display_name": "Python 3 (ipykernel)",
   "language": "python",
   "name": "python3"
  },
  "language_info": {
   "codemirror_mode": {
    "name": "ipython",
    "version": 3
   },
   "file_extension": ".py",
   "mimetype": "text/x-python",
   "name": "python",
   "nbconvert_exporter": "python",
   "pygments_lexer": "ipython3",
   "version": "3.10.6"
  },
  "toc": {
   "base_numbering": 1,
   "nav_menu": {},
   "number_sections": true,
   "sideBar": true,
   "skip_h1_title": false,
   "title_cell": "Table of Contents",
   "title_sidebar": "Contents",
   "toc_cell": false,
   "toc_position": {},
   "toc_section_display": true,
   "toc_window_display": false
  },
  "varInspector": {
   "cols": {
    "lenName": 16,
    "lenType": 16,
    "lenVar": 40
   },
   "kernels_config": {
    "python": {
     "delete_cmd_postfix": "",
     "delete_cmd_prefix": "del ",
     "library": "var_list.py",
     "varRefreshCmd": "print(var_dic_list())"
    },
    "r": {
     "delete_cmd_postfix": ") ",
     "delete_cmd_prefix": "rm(",
     "library": "var_list.r",
     "varRefreshCmd": "cat(var_dic_list()) "
    }
   },
   "types_to_exclude": [
    "module",
    "function",
    "builtin_function_or_method",
    "instance",
    "_Feature"
   ],
   "window_display": false
  }
 },
 "nbformat": 4,
 "nbformat_minor": 5
}
