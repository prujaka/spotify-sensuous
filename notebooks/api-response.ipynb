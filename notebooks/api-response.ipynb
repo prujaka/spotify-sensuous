{
 "cells": [
  {
   "cell_type": "code",
   "execution_count": 1,
   "id": "36acb6ca",
   "metadata": {},
   "outputs": [],
   "source": [
    "%load_ext autoreload\n",
    "%autoreload 2"
   ]
  },
  {
   "cell_type": "code",
   "execution_count": 9,
   "id": "7a61932a",
   "metadata": {},
   "outputs": [],
   "source": [
    "import requests\n",
    "import pandas as pd"
   ]
  },
  {
   "cell_type": "code",
   "execution_count": 2,
   "id": "d83b122d",
   "metadata": {},
   "outputs": [],
   "source": [
    "from streamlit_app import predict_playlist"
   ]
  },
  {
   "cell_type": "code",
   "execution_count": 11,
   "id": "ed81454d",
   "metadata": {},
   "outputs": [],
   "source": [
    "url = 'http://0.0.0.0:8000'\n",
    "artist = 'je'\n",
    "song = 'Gu'\n",
    "response = requests.get(f'{url}/predict', params={'artist': artist,\n",
    "                                                  'song': song})"
   ]
  },
  {
   "cell_type": "code",
   "execution_count": 15,
   "id": "fc0ee4ad",
   "metadata": {},
   "outputs": [
    {
     "data": {
      "text/html": [
       "<div>\n",
       "<style scoped>\n",
       "    .dataframe tbody tr th:only-of-type {\n",
       "        vertical-align: middle;\n",
       "    }\n",
       "\n",
       "    .dataframe tbody tr th {\n",
       "        vertical-align: top;\n",
       "    }\n",
       "\n",
       "    .dataframe thead th {\n",
       "        text-align: right;\n",
       "    }\n",
       "</style>\n",
       "<table border=\"1\" class=\"dataframe\">\n",
       "  <thead>\n",
       "    <tr style=\"text-align: right;\">\n",
       "      <th></th>\n",
       "      <th>artists</th>\n",
       "      <th>song_title</th>\n",
       "      <th>danceability</th>\n",
       "      <th>energy</th>\n",
       "      <th>key</th>\n",
       "      <th>liveness</th>\n",
       "      <th>loudness</th>\n",
       "      <th>speechiness</th>\n",
       "      <th>tempo</th>\n",
       "      <th>valence</th>\n",
       "    </tr>\n",
       "  </thead>\n",
       "  <tbody>\n",
       "    <tr>\n",
       "      <th>9590</th>\n",
       "      <td>['Blood Orange', 'A$AP Rocky', 'Project Pat']</td>\n",
       "      <td>Chewing Gum</td>\n",
       "      <td>0.624498</td>\n",
       "      <td>0.515</td>\n",
       "      <td>0.727273</td>\n",
       "      <td>0.1940</td>\n",
       "      <td>0.806437</td>\n",
       "      <td>0.150104</td>\n",
       "      <td>0.673106</td>\n",
       "      <td>0.217</td>\n",
       "    </tr>\n",
       "    <tr>\n",
       "      <th>78211</th>\n",
       "      <td>['Québec Redneck Bluegrass Project']</td>\n",
       "      <td>Guerres de clocher</td>\n",
       "      <td>0.581325</td>\n",
       "      <td>0.673</td>\n",
       "      <td>0.363636</td>\n",
       "      <td>0.1940</td>\n",
       "      <td>0.789422</td>\n",
       "      <td>0.064286</td>\n",
       "      <td>0.391207</td>\n",
       "      <td>0.790</td>\n",
       "    </tr>\n",
       "    <tr>\n",
       "      <th>113007</th>\n",
       "      <td>['Los Viajeros']</td>\n",
       "      <td>Guerra de Amor - Remix</td>\n",
       "      <td>0.810241</td>\n",
       "      <td>0.840</td>\n",
       "      <td>1.000000</td>\n",
       "      <td>0.0985</td>\n",
       "      <td>0.828907</td>\n",
       "      <td>0.118012</td>\n",
       "      <td>0.376066</td>\n",
       "      <td>0.629</td>\n",
       "    </tr>\n",
       "    <tr>\n",
       "      <th>146541</th>\n",
       "      <td>['El Nuevo Ejemplo']</td>\n",
       "      <td>Uno Personal y en Guerra Con la Ley - En vivo</td>\n",
       "      <td>0.667671</td>\n",
       "      <td>0.930</td>\n",
       "      <td>0.272727</td>\n",
       "      <td>0.1300</td>\n",
       "      <td>0.891031</td>\n",
       "      <td>0.183230</td>\n",
       "      <td>0.459163</td>\n",
       "      <td>0.824</td>\n",
       "    </tr>\n",
       "    <tr>\n",
       "      <th>147856</th>\n",
       "      <td>['El Nuevo Ejemplo']</td>\n",
       "      <td>El Guerito - En vivo</td>\n",
       "      <td>0.706827</td>\n",
       "      <td>0.887</td>\n",
       "      <td>0.454545</td>\n",
       "      <td>0.3820</td>\n",
       "      <td>0.863169</td>\n",
       "      <td>0.198758</td>\n",
       "      <td>0.459251</td>\n",
       "      <td>0.777</td>\n",
       "    </tr>\n",
       "    <tr>\n",
       "      <th>190077</th>\n",
       "      <td>['Project Pat']</td>\n",
       "      <td>Money Over Everything (feat. Gucci Mane)</td>\n",
       "      <td>0.921687</td>\n",
       "      <td>0.756</td>\n",
       "      <td>0.090909</td>\n",
       "      <td>0.1220</td>\n",
       "      <td>0.854460</td>\n",
       "      <td>0.250518</td>\n",
       "      <td>0.420233</td>\n",
       "      <td>0.753</td>\n",
       "    </tr>\n",
       "  </tbody>\n",
       "</table>\n",
       "</div>"
      ],
      "text/plain": [
       "                                              artists  ... valence\n",
       "9590    ['Blood Orange', 'A$AP Rocky', 'Project Pat']  ...   0.217\n",
       "78211            ['Québec Redneck Bluegrass Project']  ...   0.790\n",
       "113007                               ['Los Viajeros']  ...   0.629\n",
       "146541                           ['El Nuevo Ejemplo']  ...   0.824\n",
       "147856                           ['El Nuevo Ejemplo']  ...   0.777\n",
       "190077                                ['Project Pat']  ...   0.753\n",
       "\n",
       "[6 rows x 10 columns]"
      ]
     },
     "execution_count": 15,
     "metadata": {},
     "output_type": "execute_result"
    }
   ],
   "source": [
    "pd.DataFrame(response.json())"
   ]
  },
  {
   "cell_type": "code",
   "execution_count": null,
   "id": "87fc52ac",
   "metadata": {},
   "outputs": [],
   "source": []
  }
 ],
 "metadata": {
  "kernelspec": {
   "display_name": "Python 3 (ipykernel)",
   "language": "python",
   "name": "python3"
  },
  "language_info": {
   "codemirror_mode": {
    "name": "ipython",
    "version": 3
   },
   "file_extension": ".py",
   "mimetype": "text/x-python",
   "name": "python",
   "nbconvert_exporter": "python",
   "pygments_lexer": "ipython3",
   "version": "3.10.6"
  },
  "toc": {
   "base_numbering": 1,
   "nav_menu": {},
   "number_sections": true,
   "sideBar": true,
   "skip_h1_title": false,
   "title_cell": "Table of Contents",
   "title_sidebar": "Contents",
   "toc_cell": false,
   "toc_position": {},
   "toc_section_display": true,
   "toc_window_display": false
  },
  "varInspector": {
   "cols": {
    "lenName": 16,
    "lenType": 16,
    "lenVar": 40
   },
   "kernels_config": {
    "python": {
     "delete_cmd_postfix": "",
     "delete_cmd_prefix": "del ",
     "library": "var_list.py",
     "varRefreshCmd": "print(var_dic_list())"
    },
    "r": {
     "delete_cmd_postfix": ") ",
     "delete_cmd_prefix": "rm(",
     "library": "var_list.r",
     "varRefreshCmd": "cat(var_dic_list()) "
    }
   },
   "types_to_exclude": [
    "module",
    "function",
    "builtin_function_or_method",
    "instance",
    "_Feature"
   ],
   "window_display": false
  }
 },
 "nbformat": 4,
 "nbformat_minor": 5
}
